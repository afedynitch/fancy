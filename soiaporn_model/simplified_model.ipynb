{
 "cells": [
  {
   "cell_type": "markdown",
   "metadata": {},
   "source": [
    "# Simplified model for UHECR data\n",
    "\n",
    "Here we use a simplified version of the model described in *Soiaporn, K. et al., 2012. Multilevel Bayesian framework for modeling the production, propagation and detection of ultra-high energy cosmic rays. arXiv.org, astro-ph.HE(3), pp.1249–1285* and summarised in soiaporn_model.ipynb to generate simulated data for the UHECR arrival directions.\n",
    "\n",
    "\n",
    "A generative model is built here to simulate datasets and test the fit for known parameters. "
   ]
  },
  {
   "cell_type": "code",
   "execution_count": null,
   "metadata": {
    "ExecuteTime": {
     "end_time": "2018-04-29T15:13:21.051276Z",
     "start_time": "2018-04-29T15:13:19.730283Z"
    }
   },
   "outputs": [],
   "source": [
    "%matplotlib inline\n",
    "import sys\n",
    "sys.path.append('../')\n",
    "from matplotlib import pyplot as plt\n",
    "import numpy as np\n",
    "from fancy import *"
   ]
  },
  {
   "cell_type": "code",
   "execution_count": null,
   "metadata": {
    "ExecuteTime": {
     "end_time": "2018-04-29T15:13:21.063955Z",
     "start_time": "2018-04-29T15:13:21.054022Z"
    }
   },
   "outputs": [],
   "source": [
    "# read in relevant data\n",
    "source_file = 'data/agn_catalog.dat'\n",
    "\n",
    "# define a Data() instance to handle all data\n",
    "data = Data()\n",
    "\n",
    "# add the AGN data\n",
    "data.add_source(source_file, 'AGN')"
   ]
  },
  {
   "cell_type": "markdown",
   "metadata": {},
   "source": [
    "## Sources\n",
    "\n",
    "For the most basic model start with just the sources and no dtection effects. The source distribution is defined by the luminosity function $(F_T, f)$ and the hyperparameters $s$, $a$ and $b$:\n",
    "\n",
    "<div><center>\n",
    "$ g(F_T) = \\frac{1}{s}e^{-F_T/s}$\n",
    "<center></div>\n",
    "<div><center>\n",
    "$ h(f) = \\frac{1}{B(a,b)}f^{a-1}(1-f)^{b-1}$\n",
    "<center></div>\n",
    "\n",
    "With s = $0.01 \\times 4\\pi$, and a = b = 1.\n",
    "We have the *luminosity function* of a standard candle: $F_k = I/D_k^2$, but we choose instead to represent I through the total source flux: $ F_A = \\sum_{k=1}^{N_A} $. So, $F_k = w_kF_A$ with the weights $w_k = \\frac{1/D_k^2}{\\sum_{j=1}^{N_A} 1/D_j^2}$. \n",
    "\n",
    "For now we set the total integrated flux to 500 events, to be distributed amongst the sources depending on their distance from Earth.\n",
    "\n",
    "The associated fraction is 1 for now, for simplicity. So, all events are associated with the 17 AGN in the sample.\n",
    "\n",
    "We have:\n",
    "\n",
    "* $F_T = 500$\n",
    "* $f = 1$"
   ]
  },
  {
   "cell_type": "code",
   "execution_count": null,
   "metadata": {
    "ExecuteTime": {
     "end_time": "2018-04-29T15:13:21.070144Z",
     "start_time": "2018-04-29T15:13:21.066439Z"
    }
   },
   "outputs": [],
   "source": [
    "# set source parameters\n",
    "F_T = 500 # total flux\n",
    "f = 1 # associated fraction\n",
    "F_A = f * F_T # source flux"
   ]
  },
  {
   "cell_type": "code",
   "execution_count": null,
   "metadata": {
    "ExecuteTime": {
     "end_time": "2018-04-29T15:13:22.167645Z",
     "start_time": "2018-04-29T15:13:22.146806Z"
    }
   },
   "outputs": [],
   "source": [
    "# use this model to generate simulated data from the given AGN sources\n",
    "# distances to AGN\n",
    "D = data.source['AGN'].distance\n",
    "# number of AGN\n",
    "N_A = len(D) \n",
    "\n",
    "# function to calculate the weights\n",
    "def get_weights(D):\n",
    "    normalisation = 0\n",
    "    for D_j in D:\n",
    "        normalisation += (1 / D_j**2)  \n",
    "    \n",
    "    w = []\n",
    "    for D_k in D:\n",
    "        w.append( (1 / D_k**2) / normalisation)\n",
    "    w = np.asarray(w)\n",
    "    return w\n",
    "\n",
    "# how many events to simulate for each source?\n",
    "w = get_weights(D)\n",
    "F = []\n",
    "for w_k in w:\n",
    "    F.append(int(round(w_k * F_T)))\n",
    "print ('Total flux:', sum(F))"
   ]
  },
  {
   "cell_type": "markdown",
   "metadata": {},
   "source": [
    "## Propagation\n",
    "\n",
    "Due to magnetic fields, the UHECR trajectories are deflected. For a simple model, this deflection can de described by a von Mises - Firsher distribution:\n",
    "\n",
    "<div><center>\n",
    "$\\rho_k(\\omega | \\kappa) = \\frac{\\kappa}{4\\pi sinh(\\kappa)}e^{\\kappa \\omega . \\varpi_k}$    \n",
    "<center></div>\n",
    "\n",
    "Where:\n",
    "\n",
    "* $\\kappa$ is the concentration parameter\n",
    "* $\\omega$ is the UHECR direction\n",
    "* $\\varpi_k$ is the source direction\n",
    "\n",
    "Here, we set the concentration parameter to be $\\kappa = 100$"
   ]
  },
  {
   "cell_type": "code",
   "execution_count": null,
   "metadata": {
    "ExecuteTime": {
     "end_time": "2018-04-29T15:13:23.165215Z",
     "start_time": "2018-04-29T15:13:23.162609Z"
    }
   },
   "outputs": [],
   "source": [
    "# set the propagation parameter\n",
    "kappa = 5"
   ]
  },
  {
   "cell_type": "code",
   "execution_count": null,
   "metadata": {
    "ExecuteTime": {
     "end_time": "2018-04-29T15:13:27.773112Z",
     "start_time": "2018-04-29T15:13:25.554944Z"
    },
    "scrolled": false
   },
   "outputs": [],
   "source": [
    "# plot the results on a skymap\n",
    "fig, skymap = data.show()\n",
    "label = True\n",
    "for o in omega:\n",
    "    for lon, lat in np.nditer([o.galactic.l.deg, o.galactic.b.deg]):\n",
    "        if label:\n",
    "            skymap.tissot(lon, lat, 2, npts = 30, facecolor = 'k', alpha = 0.5, \n",
    "                          label = 'simulated data')\n",
    "            label = False\n",
    "        else:\n",
    "            skymap.tissot(lon, lat, 2, npts = 30, facecolor = 'k', alpha = 0.5)\n",
    "\n",
    "plt.gca()\n",
    "plt.legend(bbox_to_anchor=(0.85, 0.85))"
   ]
  },
  {
   "cell_type": "code",
   "execution_count": null,
   "metadata": {
    "ExecuteTime": {
     "end_time": "2018-04-29T15:13:35.100952Z",
     "start_time": "2018-04-29T15:13:34.958266Z"
    }
   },
   "outputs": [],
   "source": [
    "from vMF import *\n",
    "from astropy.coordinates import SkyCoord\n",
    "from astropy import units as u\n",
    "\n",
    "# Now try with the vMF distribution \n",
    "# get the positions of the sources\n",
    "skycoords = data.source['AGN'].coord\n",
    "\n",
    "# convert to cartesian coordinates\n",
    "varpi = [skycoords.cartesian.x, skycoords.cartesian.y, skycoords.cartesian.z] \n",
    "varpi = np.transpose(varpi)\n",
    "\n",
    "# Make a wapper class to store output\n",
    "class Direction():\n",
    "    \"\"\"\n",
    "    Input the de-normalised vMF samples and \n",
    "    store x, y, and z and galactic coordinates \n",
    "    of direction in Mpc.\n",
    "    \"\"\"\n",
    "    \n",
    "    def __init__(self, omega_k):\n",
    "        self.x = np.transpose(omega_k)[0]\n",
    "        self.y = np.transpose(omega_k)[1] \n",
    "        self.z = np.transpose(omega_k)[2] \n",
    "        self.d = SkyCoord(self.x, self.y, self.z, \n",
    "                          unit = 'mpc', \n",
    "                          representation_type = 'cartesian', \n",
    "                          frame = 'galactic')\n",
    "        self.d.representation_type = 'spherical'\n",
    "        self.lons = self.d.galactic.l.wrap_at(360 * u.deg).deg\n",
    "        self.lats = self.d.galactic.b.wrap_at(180 * u.deg).deg\n",
    "        \n",
    "# simulate events\n",
    "omega = []\n",
    "omega_unit_vec = []\n",
    "varpi_unit_vec = []\n",
    "for i in range(N_A):\n",
    "    N = F[i]\n",
    "    # normalise to unit sphere for sampling, then revert\n",
    "    norm = np.linalg.norm(varpi[i])\n",
    "    mu = varpi[i] / norm\n",
    "    varpi_unit_vec.append(mu)\n",
    "    omega_k = (sample_vMF(mu, kappa, N))\n",
    "    omega_unit_vec.append(omega_k)\n",
    "    omega.append(Direction(omega_k * norm))"
   ]
  },
  {
   "cell_type": "code",
   "execution_count": null,
   "metadata": {
    "ExecuteTime": {
     "end_time": "2018-04-29T15:13:41.012849Z",
     "start_time": "2018-04-29T15:13:38.756230Z"
    },
    "scrolled": false
   },
   "outputs": [],
   "source": [
    "# plot the results on a skymap\n",
    "fig, skymap = data.show()\n",
    "label = True\n",
    "for o in omega:\n",
    "    for lon, lat in np.nditer([o.lons, o.lats]):\n",
    "        if label:\n",
    "            skymap.tissot(lon, lat, 2, npts = 30, facecolor = 'k', alpha = 0.5, \n",
    "                          label = 'simulated data')\n",
    "            label = False\n",
    "        else:\n",
    "            skymap.tissot(lon, lat, 2, npts = 30, facecolor = 'k', alpha = 0.5)\n",
    "\n",
    "plt.gca()\n",
    "plt.legend(bbox_to_anchor=(0.85, 0.85))"
   ]
  },
  {
   "cell_type": "markdown",
   "metadata": {},
   "source": [
    "## Detection effects\n",
    "\n",
    "The arrival direction of UHECR is reconstructed with a certain uncertainty by the PAO team. This is quantified here by the von Mises-Fisher distribution for the data:\n",
    "\n",
    "<div><center>\n",
    "$P(d_i | \\omega_i) = \\frac{\\kappa}{4\\pi sinh(\\kappa)}e^{\\kappa d_i \\omega_i}$    \n",
    "<center></div>\n",
    "\n",
    "We can sample from this distibrution, assuming the true arrival direction is a certain source. For now we leave out the detection effects for simplicity."
   ]
  },
  {
   "cell_type": "markdown",
   "metadata": {},
   "source": [
    "## Fitting the model in Stan\n",
    "\n",
    "The Stan model is written up in `simplified_model.stan`. For the fit, we don't need to have the UHECR directions in galactic coordinates. \n"
   ]
  },
  {
   "cell_type": "code",
   "execution_count": null,
   "metadata": {
    "ExecuteTime": {
     "end_time": "2018-04-29T17:18:22.174953Z",
     "start_time": "2018-04-29T17:18:22.168899Z"
    }
   },
   "outputs": [],
   "source": [
    "# data reduction\n",
    "# flatten all the source data into one vector of unit vectors\n",
    "omega_flat = [] \n",
    "for n in range(N_A):\n",
    "    for o in omega_unit_vec[n]:\n",
    "        omega_flat.append(o)\n",
    "print (np.shape(omega_flat))"
   ]
  },
  {
   "cell_type": "code",
   "execution_count": null,
   "metadata": {
    "ExecuteTime": {
     "end_time": "2018-04-29T17:18:23.573764Z",
     "start_time": "2018-04-29T17:18:23.570180Z"
    }
   },
   "outputs": [],
   "source": [
    "# set up the data\n",
    "# for now, input omega and varpi as 3D unit vectors\n",
    "# for now, try with only one source and only one UHECR\n",
    "data = {'N_A' : 17,\n",
    "        'N' : 497,\n",
    "        'varpi' : varpi_unit_vec,\n",
    "        'omega' : omega_flat,\n",
    "        'w' :  w}"
   ]
  },
  {
   "cell_type": "code",
   "execution_count": null,
   "metadata": {
    "ExecuteTime": {
     "end_time": "2018-04-29T17:19:04.807464Z",
     "start_time": "2018-04-29T17:18:25.928110Z"
    }
   },
   "outputs": [],
   "source": [
    "# compile the model\n",
    "import pystan\n",
    "sm = pystan.StanModel(file = 'simplified_model.stan')"
   ]
  },
  {
   "cell_type": "code",
   "execution_count": null,
   "metadata": {
    "ExecuteTime": {
     "end_time": "2018-04-29T17:21:03.251393Z",
     "start_time": "2018-04-29T17:20:34.214965Z"
    }
   },
   "outputs": [],
   "source": [
    "fit = sm.sampling(data = data, iter = 1000, chains = 4)"
   ]
  },
  {
   "cell_type": "code",
   "execution_count": null,
   "metadata": {
    "ExecuteTime": {
     "end_time": "2018-04-29T17:21:23.997923Z",
     "start_time": "2018-04-29T17:21:23.940142Z"
    }
   },
   "outputs": [],
   "source": [
    "print (fit)"
   ]
  },
  {
   "cell_type": "code",
   "execution_count": null,
   "metadata": {
    "ExecuteTime": {
     "end_time": "2018-04-29T17:22:00.743579Z",
     "start_time": "2018-04-29T17:21:59.129136Z"
    }
   },
   "outputs": [],
   "source": [
    "fig = fit.plot();\n",
    "fig.set_size_inches(19, 11)\n",
    "fig.tight_layout()"
   ]
  },
  {
   "cell_type": "code",
   "execution_count": null,
   "metadata": {
    "ExecuteTime": {
     "end_time": "2018-04-30T08:18:25.165396Z",
     "start_time": "2018-04-30T08:18:25.162382Z"
    }
   },
   "outputs": [],
   "source": [
    "print(F)"
   ]
  },
  {
   "cell_type": "code",
   "execution_count": null,
   "metadata": {},
   "outputs": [],
   "source": []
  }
 ],
 "metadata": {
  "kernelspec": {
   "display_name": "Python (bayes)",
   "language": "python",
   "name": "bayes"
  },
  "language_info": {
   "codemirror_mode": {
    "name": "ipython",
    "version": 3
   },
   "file_extension": ".py",
   "mimetype": "text/x-python",
   "name": "python",
   "nbconvert_exporter": "python",
   "pygments_lexer": "ipython3",
   "version": "3.6.4"
  }
 },
 "nbformat": 4,
 "nbformat_minor": 2
}
