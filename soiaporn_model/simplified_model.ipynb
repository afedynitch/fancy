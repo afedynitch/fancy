{
 "cells": [
  {
   "cell_type": "markdown",
   "metadata": {},
   "source": [
    "# Simplified model for UHECR data\n",
    "\n",
    "Here we use a simplified version of the model described in *Soiaporn, K. et al., 2012. Multilevel Bayesian framework for modeling the production, propagation and detection of ultra-high energy cosmic rays. arXiv.org, astro-ph.HE(3), pp.1249–1285* and summarised in soiaporn_model.ipynb to generate simulated data for the UHECR arrival directions.\n",
    "\n",
    "\n",
    "A generative model is built here to simulate datasets and test the fit for known parameters. "
   ]
  },
  {
   "cell_type": "code",
   "execution_count": 2,
   "metadata": {
    "ExecuteTime": {
     "end_time": "2018-04-22T09:51:03.114034Z",
     "start_time": "2018-04-22T09:51:03.108639Z"
    }
   },
   "outputs": [],
   "source": [
    "%matplotlib inline\n",
    "\n",
    "from matplotlib import pyplot as plt\n",
    "import numpy as np"
   ]
  },
  {
   "cell_type": "markdown",
   "metadata": {},
   "source": [
    "## Sources\n",
    "\n",
    "For the most basic model start with just the sources. The source distribution is defined by the luminosity function $(F_T, f)$ and the hyperparameters $s$, $a$ and $b$:\n",
    "\n",
    "<div><center>\n",
    "$ g(F_T) = \\frac{1}{s}e^{-F_T/s}$\n",
    "<center></div>\n",
    "<div><center>\n",
    "$ h(f) = \\frac{1}{B(a,b)}f^{a-1}(1-f)^{b-1}$\n",
    "<center></div>\n",
    "    \n",
    "We have the *luminosity function* of a standard candle: $F_k = I/D_k^2$, but we choose instead to represent I through the total source flux: $ F_A = \\sum_{k=1}^{N_A} $. So, $F_k = w_kF_A$ with the weights $w_k = \\frac{1/D_k^2}{\\sum_{j=1}^{N_A} 1/D_j^2}$. "
   ]
  },
  {
   "cell_type": "code",
   "execution_count": null,
   "metadata": {},
   "outputs": [],
   "source": [
    "# use this model to generate simulated data from the given AGN sources\n",
    "\n",
    "N_A = 17 \n",
    "\n",
    "# function to calculate the weights\n",
    "def get_weights(D):\n",
    "    normalisation = 0\n",
    "    for D_j in D:\n",
    "        normalisation += (1 / D_j**2)  \n",
    "    \n",
    "    w = []\n",
    "    for D_k in D:\n",
    "        w.append( (1 / D_k**2) / normalisation)\n",
    "    w = np.asarray(w)\n",
    "    return w\n",
    "\n",
    "w = get_weights(D)\n",
    "F = w * F_A"
   ]
  }
 ],
 "metadata": {
  "kernelspec": {
   "display_name": "Python (bayes)",
   "language": "python",
   "name": "bayes"
  },
  "language_info": {
   "codemirror_mode": {
    "name": "ipython",
    "version": 3
   },
   "file_extension": ".py",
   "mimetype": "text/x-python",
   "name": "python",
   "nbconvert_exporter": "python",
   "pygments_lexer": "ipython3",
   "version": "3.6.4"
  }
 },
 "nbformat": 4,
 "nbformat_minor": 2
}
