{
 "cells": [
  {
   "cell_type": "markdown",
   "metadata": {},
   "source": [
    "# Simplified model for UHECR data\n",
    "\n",
    "Here we use a simplified version of the model described in *Soiaporn, K. et al., 2012. Multilevel Bayesian framework for modeling the production, propagation and detection of ultra-high energy cosmic rays. arXiv.org, astro-ph.HE(3), pp.1249–1285* and summarised in soiaporn_model.ipynb to generate simulated data for the UHECR arrival directions.\n",
    "\n",
    "\n",
    "A generative model is built here to simulate datasets and test the fit for known parameters. "
   ]
  },
  {
   "cell_type": "code",
   "execution_count": 1,
   "metadata": {
    "ExecuteTime": {
     "end_time": "2018-04-27T08:54:25.951286Z",
     "start_time": "2018-04-27T08:54:23.739095Z"
    }
   },
   "outputs": [],
   "source": [
    "%matplotlib inline\n",
    "import sys\n",
    "sys.path.append('../')\n",
    "from matplotlib import pyplot as plt\n",
    "import numpy as np\n",
    "from fancy import *"
   ]
  },
  {
   "cell_type": "markdown",
   "metadata": {},
   "source": [
    "## Sources\n",
    "\n",
    "For the most basic model start with just the sources. The source distribution is defined by the luminosity function $(F_T, f)$ and the hyperparameters $s$, $a$ and $b$:\n",
    "\n",
    "<div><center>\n",
    "$ g(F_T) = \\frac{1}{s}e^{-F_T/s}$\n",
    "<center></div>\n",
    "<div><center>\n",
    "$ h(f) = \\frac{1}{B(a,b)}f^{a-1}(1-f)^{b-1}$\n",
    "<center></div>\n",
    "\n",
    "With s = $0.01 \\times 4\\pi$, and a = b = 1.\n",
    "We have the *luminosity function* of a standard candle: $F_k = I/D_k^2$, but we choose instead to represent I through the total source flux: $ F_A = \\sum_{k=1}^{N_A} $. So, $F_k = w_kF_A$ with the weights $w_k = \\frac{1/D_k^2}{\\sum_{j=1}^{N_A} 1/D_j^2}$. "
   ]
  },
  {
   "cell_type": "code",
   "execution_count": 3,
   "metadata": {
    "ExecuteTime": {
     "end_time": "2018-04-26T15:30:24.830051Z",
     "start_time": "2018-04-26T15:30:24.804936Z"
    }
   },
   "outputs": [],
   "source": [
    "# read in relevant data\n",
    "source_file = 'data/agn_catalog.dat'\n",
    "\n",
    "# define a Data() instance to handle all data\n",
    "data = Data()\n",
    "\n",
    "# add the AGN data\n",
    "data.add_source(source_file, 'AGN')"
   ]
  },
  {
   "cell_type": "code",
   "execution_count": 4,
   "metadata": {
    "ExecuteTime": {
     "end_time": "2018-04-26T15:31:19.492230Z",
     "start_time": "2018-04-26T15:31:19.459554Z"
    }
   },
   "outputs": [
    {
     "ename": "NameError",
     "evalue": "name 'F_A' is not defined",
     "output_type": "error",
     "traceback": [
      "\u001b[0;31m---------------------------------------------------------------------------\u001b[0m",
      "\u001b[0;31mNameError\u001b[0m                                 Traceback (most recent call last)",
      "\u001b[0;32m<ipython-input-4-289d3a3d60e8>\u001b[0m in \u001b[0;36m<module>\u001b[0;34m()\u001b[0m\n\u001b[1;32m     16\u001b[0m \u001b[0;34m\u001b[0m\u001b[0m\n\u001b[1;32m     17\u001b[0m \u001b[0mw\u001b[0m \u001b[0;34m=\u001b[0m \u001b[0mget_weights\u001b[0m\u001b[0;34m(\u001b[0m\u001b[0mD\u001b[0m\u001b[0;34m)\u001b[0m\u001b[0;34m\u001b[0m\u001b[0m\n\u001b[0;32m---> 18\u001b[0;31m \u001b[0mF\u001b[0m \u001b[0;34m=\u001b[0m \u001b[0mw\u001b[0m \u001b[0;34m*\u001b[0m \u001b[0mF_A\u001b[0m\u001b[0;34m\u001b[0m\u001b[0m\n\u001b[0m",
      "\u001b[0;31mNameError\u001b[0m: name 'F_A' is not defined"
     ]
    }
   ],
   "source": [
    "# use this model to generate simulated data from the given AGN sources\n",
    "# distances to AGN\n",
    "D = data.source['AGN'].distance\n",
    "# number of AGN\n",
    "N_A = len(D) \n",
    "\n",
    "# The total flux\n",
    "F_T \n",
    "\n",
    "# function to calculate the weights\n",
    "def get_weights(D):\n",
    "    normalisation = 0\n",
    "    for D_j in D:\n",
    "        normalisation += (1 / D_j**2)  \n",
    "    \n",
    "    w = []\n",
    "    for D_k in D:\n",
    "        w.append( (1 / D_k**2) / normalisation)\n",
    "    w = np.asarray(w)\n",
    "    return w\n",
    "\n",
    "w = get_weights(D)\n"
   ]
  },
  {
   "cell_type": "code",
   "execution_count": null,
   "metadata": {},
   "outputs": [],
   "source": []
  }
 ],
 "metadata": {
  "kernelspec": {
   "display_name": "Python (bayes)",
   "language": "python",
   "name": "bayes"
  },
  "language_info": {
   "codemirror_mode": {
    "name": "ipython",
    "version": 3
   },
   "file_extension": ".py",
   "mimetype": "text/x-python",
   "name": "python",
   "nbconvert_exporter": "python",
   "pygments_lexer": "ipython3",
   "version": "3.6.4"
  }
 },
 "nbformat": 4,
 "nbformat_minor": 2
}
