{
 "cells": [
  {
   "cell_type": "markdown",
   "metadata": {},
   "source": [
    "# Testing\n",
    "\n",
    "Notebook for developing and testing the package. "
   ]
  },
  {
   "cell_type": "code",
   "execution_count": 1,
   "metadata": {
    "ExecuteTime": {
     "end_time": "2018-06-29T13:53:56.677555Z",
     "start_time": "2018-06-29T13:53:54.661137Z"
    }
   },
   "outputs": [],
   "source": [
    "import sys\n",
    "sys.path.append('../')\n",
    "from fancy import *"
   ]
  },
  {
   "cell_type": "code",
   "execution_count": 2,
   "metadata": {
    "ExecuteTime": {
     "end_time": "2018-06-29T13:53:58.194727Z",
     "start_time": "2018-06-29T13:53:58.164484Z"
    }
   },
   "outputs": [],
   "source": [
    "# data\n",
    "source_file = '../../uhecr_model/data/agn_catalog.dat'\n",
    "\n",
    "my_data = Data()\n",
    "my_data.add_source(source_file, 'AGN')"
   ]
  },
  {
   "cell_type": "code",
   "execution_count": 3,
   "metadata": {
    "ExecuteTime": {
     "end_time": "2018-06-29T13:54:00.798470Z",
     "start_time": "2018-06-29T13:54:00.284708Z"
    }
   },
   "outputs": [
    {
     "data": {
      "image/png": "[encoded data removed]",
      "text/plain": [
       "<Figure size 432x288 with 1 Axes>"
      ]
     },
     "metadata": {},
     "output_type": "display_data"
    }
   ],
   "source": [
    "# detector \n",
    "auger_coords = [-35.5, -69.3] # lat, lon in degrees\n",
    "threshold_zenith_angle = 60 # degrees\n",
    "area = 3000 # km^2\n",
    "total_exposure = 20370 # km^2 sr year\n",
    "\n",
    "my_data.add_detector(auger_coords, threshold_zenith_angle, \n",
    "                  area, total_exposure, label = 'Auger')\n",
    "\n",
    "# plot the exposure (this can take ~15 s to run...)\n",
    "my_data.detector.show(view = 'decplot', cmap = 'vaporwave')"
   ]
  },
  {
   "cell_type": "code",
   "execution_count": 5,
   "metadata": {
    "ExecuteTime": {
     "end_time": "2018-06-29T13:54:17.330047Z",
     "start_time": "2018-06-29T13:54:17.279305Z"
    }
   },
   "outputs": [
    {
     "name": "stdout",
     "output_type": "stream",
     "text": [
      "Using cached StanModel\n",
      "Using cached StanModel\n"
     ]
    }
   ],
   "source": [
    "# model\n",
    "model_name = '../../uhecr_model/stan/detection_effects.stan'\n",
    "sim_name = '../../uhecr_model/stan/detection_effects_sim.stan'\n",
    "my_model = Model(model_name, sim_name)\n",
    "\n",
    "F_T = 0.2 # CR km^-2 year^-1\n",
    "f = 0.5\n",
    "kappa = 100\n",
    "kappa_c = 1000\n",
    "\n",
    "my_model.simulation_inputs(F_T, f, kappa, kappa_c)\n",
    "my_model.compile()"
   ]
  },
  {
   "cell_type": "code",
   "execution_count": 6,
   "metadata": {
    "ExecuteTime": {
     "end_time": "2018-06-29T13:54:20.681961Z",
     "start_time": "2018-06-29T13:54:20.678105Z"
    },
    "scrolled": true
   },
   "outputs": [],
   "source": [
    "# integral tables\n",
    "table_file = 'test.data.R'\n",
    "sim_table_file = 'test_sim.data.R'\n",
    "\n",
    "my_analysis = Analysis(my_data, my_model)\n",
    "#my_analysis.build_tables(10, table_file, sim_table_file)"
   ]
  },
  {
   "cell_type": "code",
   "execution_count": 7,
   "metadata": {
    "ExecuteTime": {
     "end_time": "2018-06-29T13:54:23.650654Z",
     "start_time": "2018-06-29T13:54:23.647686Z"
    },
    "scrolled": true
   },
   "outputs": [],
   "source": [
    "# integral tables already built\n",
    "my_analysis.use_tables(table_file, sim_table_file)"
   ]
  },
  {
   "cell_type": "code",
   "execution_count": 8,
   "metadata": {
    "ExecuteTime": {
     "end_time": "2018-06-29T13:54:24.919028Z",
     "start_time": "2018-06-29T13:54:24.895238Z"
    },
    "scrolled": true
   },
   "outputs": [],
   "source": [
    "# simulate\n",
    "#my_analysis.simulate()\n",
    "#my_analysis.save_simulated_data('sim_data.data.R')\n",
    "my_analysis.use_simulated_data('sim_data.data.R')"
   ]
  },
  {
   "cell_type": "code",
   "execution_count": 9,
   "metadata": {
    "ExecuteTime": {
     "end_time": "2018-06-29T13:54:31.466786Z",
     "start_time": "2018-06-29T13:54:31.464120Z"
    }
   },
   "outputs": [],
   "source": [
    "# plot\n",
    "#my_analysis.plot_simulation()"
   ]
  },
  {
   "cell_type": "code",
   "execution_count": 10,
   "metadata": {
    "ExecuteTime": {
     "end_time": "2018-06-29T13:57:32.315472Z",
     "start_time": "2018-06-29T13:54:34.440605Z"
    }
   },
   "outputs": [
    {
     "name": "stderr",
     "output_type": "stream",
     "text": [
      "/Users/fran/projects/bayes/lib/python3.6/site-packages/pystan/misc.py:399: FutureWarning: Conversion of the second argument of issubdtype from `float` to `np.floating` is deprecated. In future, it will be treated as `np.float64 == np.dtype(float).type`.\n",
      "  elif np.issubdtype(np.asarray(v).dtype, float):\n"
     ]
    },
    {
     "name": "stdout",
     "output_type": "stream",
     "text": [
      "0 of 2000 iterations saturated the maximum tree depth of 10 (0.0%)\n",
      "0.0 of 2000 iterations ended with a divergence (0.0%)\n",
      "E-BFMI indicated no pathological behavior\n"
     ]
    }
   ],
   "source": [
    "# fit\n",
    "my_fit = my_analysis.fit_model()"
   ]
  },
  {
   "cell_type": "code",
   "execution_count": 11,
   "metadata": {
    "ExecuteTime": {
     "end_time": "2018-06-29T13:57:35.063879Z",
     "start_time": "2018-06-29T13:57:34.988825Z"
    }
   },
   "outputs": [
    {
     "name": "stdout",
     "output_type": "stream",
     "text": [
      "Inference for Stan model: anon_model_c3c5b9c4edb62652d5f1ca45ce66ac93.\n",
      "4 chains, each with iter=1000; warmup=500; thin=1; \n",
      "post-warmup draws per chain=500, total post-warmup draws=2000.\n",
      "\n",
      "          mean se_mean     sd   2.5%    25%    50%    75%  97.5%  n_eff   Rhat\n",
      "F_T       0.22  2.7e-4   0.01    0.2   0.21   0.22   0.23   0.24   1482    1.0\n",
      "f         0.51  7.4e-4   0.03   0.45   0.49   0.51   0.53   0.57   1481    1.0\n",
      "kappa   114.71    0.69  17.95  89.93 102.89 111.24 122.97 164.43    673    1.0\n",
      "kappa_c 1035.5   13.57 465.82  288.7 658.05 984.78 1394.1 1921.3   1178    1.0\n",
      "F[0]    2.1e-3  3.0e-6 1.3e-4 1.8e-3 2.0e-3 2.1e-3 2.2e-3 2.3e-3   1909    nan\n",
      "F[1]    1.9e-3  2.8e-6 1.2e-4 1.7e-3 1.9e-3 1.9e-3 2.0e-3 2.2e-3   1909    nan\n",
      "F[2]    2.9e-3  4.2e-6 1.8e-4 2.5e-3 2.8e-3 2.9e-3 3.0e-3 3.3e-3   1909    nan\n",
      "F[3]    2.3e-3  3.4e-6 1.5e-4 2.0e-3 2.2e-3 2.3e-3 2.4e-3 2.6e-3   1909    nan\n",
      "F[4]    3.3e-3  4.8e-6 2.1e-4 2.9e-3 3.2e-3 3.3e-3 3.4e-3 3.7e-3   1909    nan\n",
      "F[5]    2.8e-3  4.1e-6 1.8e-4 2.4e-3 2.7e-3 2.8e-3 2.9e-3 3.1e-3   1909    nan\n",
      "F[6]      0.01  1.5e-5 6.4e-4 8.8e-3 9.6e-310.0e-3   0.01   0.01   1909    nan\n",
      "F[7]    4.4e-3  6.4e-6 2.8e-4 3.8e-3 4.2e-3 4.4e-3 4.5e-3 4.9e-3   1909    nan\n",
      "F[8]    4.4e-3  6.4e-6 2.8e-4 3.8e-3 4.2e-3 4.4e-3 4.5e-3 4.9e-3   1909    nan\n",
      "F[9]    2.5e-3  3.7e-6 1.6e-4 2.2e-3 2.4e-3 2.5e-3 2.6e-3 2.9e-3   1909    nan\n",
      "F[10]     0.03  4.2e-5 1.8e-3   0.03   0.03   0.03   0.03   0.03   1909    1.0\n",
      "F[11]   2.3e-3  3.3e-6 1.5e-4 2.0e-3 2.2e-3 2.3e-3 2.4e-3 2.6e-3   1909    nan\n",
      "F[12]     0.03  4.0e-5 1.7e-3   0.02   0.03   0.03   0.03   0.03   1909    1.0\n",
      "F[13]   5.9e-3  8.6e-6 3.8e-4 5.2e-3 5.6e-3 5.9e-3 6.1e-3 6.7e-3   1909    nan\n",
      "F[14]   6.3e-3  9.2e-6 4.0e-4 5.5e-3 6.1e-3 6.3e-3 6.6e-3 7.1e-3   1909    nan\n",
      "F[15]   2.3e-3  3.3e-6 1.4e-4 2.0e-3 2.2e-3 2.3e-3 2.4e-3 2.5e-3   1909    nan\n",
      "F[16]   2.5e-3  3.7e-6 1.6e-4 2.2e-3 2.4e-3 2.5e-3 2.6e-3 2.9e-3   1909    nan\n",
      "F[17]     0.11  2.5e-4 9.0e-3   0.09    0.1   0.11   0.11   0.13   1321    1.0\n",
      "lp__    1601.8    0.06   1.52 1598.0 1601.0 1602.1 1602.9 1603.7    575   1.01\n",
      "\n",
      "Samples were drawn using NUTS at Fri Jun 29 15:57:32 2018.\n",
      "For each parameter, n_eff is a crude measure of effective sample size,\n",
      "and Rhat is the potential scale reduction factor on split chains (at \n",
      "convergence, Rhat=1).\n"
     ]
    }
   ],
   "source": [
    "print(my_fit)"
   ]
  },
  {
   "cell_type": "code",
   "execution_count": null,
   "metadata": {},
   "outputs": [],
   "source": []
  }
 ],
 "metadata": {
  "kernelspec": {
   "display_name": "Python (bayes)",
   "language": "python",
   "name": "bayes"
  },
  "language_info": {
   "codemirror_mode": {
    "name": "ipython",
    "version": 3
   },
   "file_extension": ".py",
   "mimetype": "text/x-python",
   "name": "python",
   "nbconvert_exporter": "python",
   "pygments_lexer": "ipython3",
   "version": "3.6.4"
  }
 },
 "nbformat": 4,
 "nbformat_minor": 2
}
