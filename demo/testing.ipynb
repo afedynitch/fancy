{
 "cells": [
  {
   "cell_type": "markdown",
   "metadata": {},
   "source": [
    "# Testing\n",
    "\n",
    "Notebook for developing and testing the package. "
   ]
  },
  {
   "cell_type": "code",
   "execution_count": 1,
   "metadata": {
    "ExecuteTime": {
     "end_time": "2018-06-28T09:41:08.542998Z",
     "start_time": "2018-06-28T09:41:06.570088Z"
    }
   },
   "outputs": [],
   "source": [
    "import sys\n",
    "sys.path.append('../')\n",
    "sys.path.append('../../uhecr_model/stan')\n",
    "\n",
    "%matplotlib inline\n",
    "from matplotlib import pyplot as plt\n",
    "import numpy as np\n",
    "import corner\n",
    "import pystan\n",
    "from fancy import *\n",
    "import seaborn as sns\n",
    "import stan_utility"
   ]
  },
  {
   "cell_type": "code",
   "execution_count": 4,
   "metadata": {
    "ExecuteTime": {
     "end_time": "2018-06-28T09:42:23.140561Z",
     "start_time": "2018-06-28T09:42:23.115777Z"
    }
   },
   "outputs": [],
   "source": [
    "# read in relevant data\n",
    "source_file = '../../uhecr_model/data/agn_catalog.dat'\n",
    "\n",
    "# add AGN data\n",
    "data = Data()\n",
    "data.add_source(source_file, 'AGN')\n",
    "\n",
    "# get positions as unit vectors\n",
    "varpi = data.source['AGN'].unit_vector"
   ]
  },
  {
   "cell_type": "code",
   "execution_count": null,
   "metadata": {},
   "outputs": [],
   "source": []
  }
 ],
 "metadata": {
  "kernelspec": {
   "display_name": "Python (bayes)",
   "language": "python",
   "name": "bayes"
  },
  "language_info": {
   "codemirror_mode": {
    "name": "ipython",
    "version": 3
   },
   "file_extension": ".py",
   "mimetype": "text/x-python",
   "name": "python",
   "nbconvert_exporter": "python",
   "pygments_lexer": "ipython3",
   "version": "3.6.4"
  }
 },
 "nbformat": 4,
 "nbformat_minor": 2
}
