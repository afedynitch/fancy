{
 "cells": [
  {
   "cell_type": "markdown",
   "metadata": {},
   "source": [
    "# Testing\n",
    "\n",
    "Notebook for developing and testing the package. "
   ]
  },
  {
   "cell_type": "code",
   "execution_count": 1,
   "metadata": {
    "ExecuteTime": {
     "end_time": "2018-07-01T12:19:10.693059Z",
     "start_time": "2018-07-01T12:19:08.676266Z"
    }
   },
   "outputs": [],
   "source": [
    "import sys\n",
    "sys.path.append('../')\n",
    "from fancy import *\n",
    "import numpy as np"
   ]
  },
  {
   "cell_type": "code",
   "execution_count": null,
   "metadata": {
    "ExecuteTime": {
     "end_time": "2018-06-29T13:53:58.194727Z",
     "start_time": "2018-06-29T13:53:58.164484Z"
    }
   },
   "outputs": [],
   "source": [
    "# data\n",
    "source_file = '../../uhecr_model/data/agn_catalog.dat'\n",
    "\n",
    "my_data = Data()\n",
    "my_data.add_source(source_file, 'AGN')"
   ]
  },
  {
   "cell_type": "code",
   "execution_count": null,
   "metadata": {
    "ExecuteTime": {
     "end_time": "2018-06-29T13:54:00.798470Z",
     "start_time": "2018-06-29T13:54:00.284708Z"
    }
   },
   "outputs": [],
   "source": [
    "# detector \n",
    "auger_coords = [-35.5, -69.3] # lat, lon in degrees\n",
    "threshold_zenith_angle = 60 # degrees\n",
    "area = 3000 # km^2\n",
    "total_exposure = 20370 # km^2 sr year\n",
    "\n",
    "my_data.add_detector(auger_coords, threshold_zenith_angle, \n",
    "                  area, total_exposure, label = 'Auger')\n",
    "\n",
    "# plot the exposure (this can take ~15 s to run...)\n",
    "my_data.detector.show(view = 'decplot', cmap = 'vaporwave')"
   ]
  },
  {
   "cell_type": "code",
   "execution_count": null,
   "metadata": {
    "ExecuteTime": {
     "end_time": "2018-06-29T13:54:17.330047Z",
     "start_time": "2018-06-29T13:54:17.279305Z"
    }
   },
   "outputs": [],
   "source": [
    "# model\n",
    "model_name = '../../uhecr_model/stan/detection_effects.stan'\n",
    "sim_name = '../../uhecr_model/stan/detection_effects_sim.stan'\n",
    "my_model = Model(model_name, sim_name)\n",
    "\n",
    "F_T = 0.2 # CR km^-2 year^-1\n",
    "f = 0.5\n",
    "kappa = 100\n",
    "kappa_c = 1000\n",
    "\n",
    "my_model.simulation_inputs(F_T, f, kappa, kappa_c)\n",
    "my_model.compile()"
   ]
  },
  {
   "cell_type": "code",
   "execution_count": null,
   "metadata": {
    "ExecuteTime": {
     "end_time": "2018-06-29T13:54:20.681961Z",
     "start_time": "2018-06-29T13:54:20.678105Z"
    },
    "scrolled": true
   },
   "outputs": [],
   "source": [
    "# integral tables\n",
    "table_file = 'test.data.R'\n",
    "sim_table_file = 'test_sim.data.R'\n",
    "\n",
    "my_analysis = Analysis(my_data, my_model)\n",
    "#my_analysis.build_tables(10, table_file, sim_table_file)"
   ]
  },
  {
   "cell_type": "code",
   "execution_count": null,
   "metadata": {
    "ExecuteTime": {
     "end_time": "2018-06-29T13:54:23.650654Z",
     "start_time": "2018-06-29T13:54:23.647686Z"
    },
    "scrolled": true
   },
   "outputs": [],
   "source": [
    "# integral tables already built\n",
    "my_analysis.use_tables(table_file, sim_table_file)"
   ]
  },
  {
   "cell_type": "code",
   "execution_count": null,
   "metadata": {
    "ExecuteTime": {
     "end_time": "2018-06-29T13:54:24.919028Z",
     "start_time": "2018-06-29T13:54:24.895238Z"
    },
    "scrolled": true
   },
   "outputs": [],
   "source": [
    "# simulate\n",
    "#my_analysis.simulate()\n",
    "#my_analysis.save_simulated_data('sim_data.data.R')\n",
    "my_analysis.use_simulated_data('sim_data.data.R')"
   ]
  },
  {
   "cell_type": "code",
   "execution_count": null,
   "metadata": {
    "ExecuteTime": {
     "end_time": "2018-06-29T13:54:31.466786Z",
     "start_time": "2018-06-29T13:54:31.464120Z"
    }
   },
   "outputs": [],
   "source": [
    "# plot\n",
    "#my_analysis.plot_simulation()"
   ]
  },
  {
   "cell_type": "code",
   "execution_count": null,
   "metadata": {
    "ExecuteTime": {
     "end_time": "2018-06-29T13:57:32.315472Z",
     "start_time": "2018-06-29T13:54:34.440605Z"
    }
   },
   "outputs": [],
   "source": [
    "# fit\n",
    "my_fit = my_analysis.fit_model()"
   ]
  },
  {
   "cell_type": "code",
   "execution_count": null,
   "metadata": {
    "ExecuteTime": {
     "end_time": "2018-06-29T13:57:35.063879Z",
     "start_time": "2018-06-29T13:57:34.988825Z"
    }
   },
   "outputs": [],
   "source": [
    "print(my_fit)"
   ]
  },
  {
   "cell_type": "code",
   "execution_count": null,
   "metadata": {},
   "outputs": [],
   "source": []
  }
 ],
 "metadata": {
  "kernelspec": {
   "display_name": "Python (bayes)",
   "language": "python",
   "name": "bayes"
  },
  "language_info": {
   "codemirror_mode": {
    "name": "ipython",
    "version": 3
   },
   "file_extension": ".py",
   "mimetype": "text/x-python",
   "name": "python",
   "nbconvert_exporter": "python",
   "pygments_lexer": "ipython3",
   "version": "3.6.4"
  }
 },
 "nbformat": 4,
 "nbformat_minor": 2
}
