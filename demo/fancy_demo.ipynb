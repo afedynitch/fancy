{
 "cells": [
  {
   "cell_type": "markdown",
   "metadata": {},
   "source": [
    "# Testing out FANCY"
   ]
  },
  {
   "cell_type": "code",
   "execution_count": 1,
   "metadata": {
    "ExecuteTime": {
     "end_time": "2018-05-21T14:35:50.944169Z",
     "start_time": "2018-05-21T14:35:49.590550Z"
    }
   },
   "outputs": [],
   "source": [
    "%matplotlib inline\n",
    "from fancy import *"
   ]
  },
  {
   "cell_type": "markdown",
   "metadata": {},
   "source": [
    "## Data handling and visualisation\n",
    "\n",
    "The ```Data()``` class is designed for organised data access. Take the Soiaporn model as an example.\n",
    "\n",
    "The candiate source catalogs and detected UHECR are stored in one place as ```Source``` and ```Uhecr``` objects in a labelled dictionary.\n",
    "\n",
    "Detector information is also stored, and a detector can be added to the dataset for easy reference. "
   ]
  },
  {
   "cell_type": "code",
   "execution_count": 2,
   "metadata": {
    "ExecuteTime": {
     "end_time": "2018-05-21T14:35:55.735471Z",
     "start_time": "2018-05-21T14:35:55.710377Z"
    },
    "scrolled": false
   },
   "outputs": [
    {
     "ename": "NameError",
     "evalue": "name 'Data' is not defined",
     "output_type": "error",
     "traceback": [
      "\u001b[0;31m---------------------------------------------------------------------------\u001b[0m",
      "\u001b[0;31mNameError\u001b[0m                                 Traceback (most recent call last)",
      "\u001b[0;32m<ipython-input-2-4e6cde4022ef>\u001b[0m in \u001b[0;36m<module>\u001b[0;34m()\u001b[0m\n\u001b[1;32m      4\u001b[0m \u001b[0;34m\u001b[0m\u001b[0m\n\u001b[1;32m      5\u001b[0m \u001b[0;31m# define a Data() instance to handle all data\u001b[0m\u001b[0;34m\u001b[0m\u001b[0;34m\u001b[0m\u001b[0m\n\u001b[0;32m----> 6\u001b[0;31m \u001b[0mdata\u001b[0m \u001b[0;34m=\u001b[0m \u001b[0mData\u001b[0m\u001b[0;34m(\u001b[0m\u001b[0;34m)\u001b[0m\u001b[0;34m\u001b[0m\u001b[0m\n\u001b[0m\u001b[1;32m      7\u001b[0m \u001b[0;34m\u001b[0m\u001b[0m\n\u001b[1;32m      8\u001b[0m \u001b[0;31m# add some data\u001b[0m\u001b[0;34m\u001b[0m\u001b[0;34m\u001b[0m\u001b[0m\n",
      "\u001b[0;31mNameError\u001b[0m: name 'Data' is not defined"
     ]
    }
   ],
   "source": [
    "# read in some data\n",
    "source_file = 'data/agn_catalog.dat'\n",
    "uhecr_file = 'data/auger_UHECR_list.dat'\n",
    "\n",
    "# define a Data() instance to handle all data\n",
    "data = Data()\n",
    "\n",
    "# add some data\n",
    "data.add_source(source_file, 'AGN')\n",
    "data.add_uhecr(uhecr_file, 'UHECR')\n",
    "\n",
    "# plot a summary of the data\n",
    "data.show(cmap = 'vaporwave')"
   ]
  },
  {
   "cell_type": "markdown",
   "metadata": {},
   "source": [
    "## Observatory-specific information\n",
    "\n",
    "A detector can be added by specifying it's coordinates and the maximum zenith angle with which it can detect incident UHECR. This information is used to calculate the exposure."
   ]
  },
  {
   "cell_type": "code",
   "execution_count": null,
   "metadata": {
    "ExecuteTime": {
     "end_time": "2018-05-21T09:21:26.400426Z",
     "start_time": "2018-05-21T09:21:08.167432Z"
    }
   },
   "outputs": [],
   "source": [
    "# add the Pierre Auger Observatory as a detector\n",
    "auger_coords = [-35.5, -69.3] # lat, lon in degrees\n",
    "threshold_zenith_angle = 80 # degrees\n",
    "data.add_detector(auger_coords, threshold_zenith_angle, label = 'Auger')\n",
    "\n",
    "# plot the exposure (this can take ~15 s to run...)\n",
    "data.detector['Auger'].show(view = 'map', cmap = 'vaporwave')\n",
    "\n",
    "# plot the exposure as a function of declination\n",
    "#data.detector['Auger'].show('decplot')\n",
    "\n",
    "# display the limiting declination\n",
    "print('limiting declination', data.detector['Auger'].limiting_dec.deg, 'degrees')"
   ]
  },
  {
   "cell_type": "code",
   "execution_count": null,
   "metadata": {},
   "outputs": [],
   "source": []
  }
 ],
 "metadata": {
  "kernelspec": {
   "display_name": "Python (bayes)",
   "language": "python",
   "name": "bayes"
  },
  "language_info": {
   "codemirror_mode": {
    "name": "ipython",
    "version": 3
   },
   "file_extension": ".py",
   "mimetype": "text/x-python",
   "name": "python",
   "nbconvert_exporter": "python",
   "pygments_lexer": "ipython3",
   "version": "3.6.4"
  }
 },
 "nbformat": 4,
 "nbformat_minor": 2
}
