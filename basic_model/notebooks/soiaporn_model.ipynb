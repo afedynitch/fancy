{
 "cells": [
  {
   "cell_type": "markdown",
   "metadata": {},
   "source": [
    "# Soiaporn model\n",
    "\n",
    "Trying to recreate the model presented in Soiaporn, K. et al., 2012. Multilevel Bayesian framework for modeling the production, propagation and detection of ultra-high energy cosmic rays. arXiv.org, astro-ph.HE(3), pp.1249–1285."
   ]
  },
  {
   "cell_type": "code",
   "execution_count": null,
   "metadata": {
    "ExecuteTime": {
     "end_time": "2018-05-19T16:21:47.249305Z",
     "start_time": "2018-05-19T16:21:47.241451Z"
    }
   },
   "outputs": [],
   "source": [
    "%matplotlib inline\n",
    "import sys\n",
    "sys.path.append('../../')\n",
    "from matplotlib import pyplot as plt\n",
    "import numpy as np\n",
    "import pystan\n",
    "from fancy import *"
   ]
  },
  {
   "cell_type": "code",
   "execution_count": null,
   "metadata": {
    "ExecuteTime": {
     "end_time": "2018-05-19T16:22:34.831178Z",
     "start_time": "2018-05-19T16:22:34.821957Z"
    }
   },
   "outputs": [],
   "source": [
    "# read in relevant data\n",
    "source_file = '../data/agn_catalog.dat'\n",
    "\n",
    "# define a Data() instance to handle all data\n",
    "data = Data()\n",
    "\n",
    "# add the AGN data\n",
    "data.add_source(source_file, 'AGN')"
   ]
  },
  {
   "cell_type": "markdown",
   "metadata": {},
   "source": [
    "## Sources\n",
    "\n",
    "The UHECR are generated in a homogeneous poisson process, with the expected number of UHECR per unit time for each source governed by a standard candle luminosity function. In this way, the weight of each source is defined by its distance from the Earth. \n",
    "\n",
    "Each UHECR has an associated arrival time and integer label.\n",
    "\n",
    "In summary:\n",
    "* $F \\sim Poisson(F_k)$\n",
    "* $\\lambda \\sim Categorical(\\frac{F_k}{\\sum_{j=0}^{N_A} F_j})$ "
   ]
  },
  {
   "cell_type": "code",
   "execution_count": null,
   "metadata": {
    "ExecuteTime": {
     "end_time": "2018-05-19T16:22:36.425218Z",
     "start_time": "2018-05-19T16:22:36.421821Z"
    }
   },
   "outputs": [],
   "source": [
    "# set source parameters\n",
    "F_T = 200  # total flux\n",
    "f = 0.8 # associated fraction\n",
    "F_A = f * F_T # source flux"
   ]
  },
  {
   "cell_type": "code",
   "execution_count": null,
   "metadata": {
    "ExecuteTime": {
     "end_time": "2018-05-19T16:22:37.252555Z",
     "start_time": "2018-05-19T16:22:37.238302Z"
    }
   },
   "outputs": [],
   "source": [
    "# calculate source weights based on AGN distances\n",
    "# distances to AGN\n",
    "D = data.source['AGN'].distance\n",
    "\n",
    "# number of AGN\n",
    "N_A = len(D) \n",
    "\n",
    "# function to calculate the weights\n",
    "def get_weights(D, f):\n",
    "    normalisation = 0\n",
    "    for D_j in D:\n",
    "        normalisation += (1 / D_j**2)  \n",
    "    \n",
    "    w = []\n",
    "    for D_k in D:\n",
    "        w.append( (1 / D_k**2) / normalisation)\n",
    "    w = np.asarray(w)\n",
    "    return w\n",
    "\n",
    "w = get_weights(D, f)"
   ]
  },
  {
   "cell_type": "code",
   "execution_count": null,
   "metadata": {
    "ExecuteTime": {
     "end_time": "2018-05-19T16:22:37.965448Z",
     "start_time": "2018-05-19T16:22:37.950488Z"
    }
   },
   "outputs": [],
   "source": [
    "# find actual number of events to simulate\n",
    "# expected F_k for sources\n",
    "F_k_exp = []\n",
    "for w_k in w:\n",
    "    F_k_exp.append(int(round(w_k * F_A)))\n",
    "print ('f * F_T:', f * F_T)\n",
    "\n",
    "# source F_k\n",
    "F = []\n",
    "for f_k_exp in F_k_exp:\n",
    "    F.append(np.random.poisson(f_k_exp))\n",
    "print ('Total source flux:', sum(F))\n",
    "    \n",
    "# background F_0\n",
    "F_0_exp = F_T - sum(F_k_exp)\n",
    "F_0 = np.random.poisson(F_0_exp)\n",
    "print ('Total background flux:', F_0)"
   ]
  },
  {
   "cell_type": "code",
   "execution_count": null,
   "metadata": {
    "ExecuteTime": {
     "end_time": "2018-05-19T16:22:39.844813Z",
     "start_time": "2018-05-19T16:22:39.823646Z"
    }
   },
   "outputs": [],
   "source": [
    "from astropy.coordinates import SkyCoord\n",
    "from astropy import units as u\n",
    "\n",
    "# Make a wapper class to store output with useful coordinates and label\n",
    "class Direction():\n",
    "    \"\"\"\n",
    "    Input the unit vector vMF samples and \n",
    "    store x, y, and z and galactic coordinates \n",
    "    of direction in Mpc.\n",
    "    \n",
    "    :param omega_k: unit vector\n",
    "    :param norm: unit vector = vector / norm\n",
    "    \"\"\"\n",
    "    \n",
    "    def __init__(self, omega_k, norm, label):\n",
    "        self.unit_vector = omega_k \n",
    "        self.norm = norm\n",
    "        self.x = np.transpose(omega_k)[0] * self.norm\n",
    "        self.y = np.transpose(omega_k)[1] * self.norm\n",
    "        self.z = np.transpose(omega_k)[2] * self.norm\n",
    "        self.d = SkyCoord(self.x, self.y, self.z, \n",
    "                          unit = 'mpc', \n",
    "                          representation_type = 'cartesian', \n",
    "                          frame = 'galactic')\n",
    "        self.d.representation_type = 'spherical'\n",
    "        self.lons = self.d.galactic.l.wrap_at(360 * u.deg).deg\n",
    "        self.lats = self.d.galactic.b.wrap_at(180 * u.deg).deg\n",
    "        self.label = label"
   ]
  },
  {
   "cell_type": "markdown",
   "metadata": {},
   "source": [
    "## Propagation\n",
    "\n",
    "Each UHECR undergoes deflection once it has been produced by a source. The deflection is modelled using the von Mises - Fisher distribution and is independent for each UHECR."
   ]
  },
  {
   "cell_type": "code",
   "execution_count": null,
   "metadata": {
    "ExecuteTime": {
     "end_time": "2018-05-19T16:22:42.330015Z",
     "start_time": "2018-05-19T16:22:42.326744Z"
    }
   },
   "outputs": [],
   "source": [
    "# set the propagation parameter\n",
    "kappa = 100"
   ]
  },
  {
   "cell_type": "code",
   "execution_count": null,
   "metadata": {
    "ExecuteTime": {
     "end_time": "2018-05-19T16:22:43.651059Z",
     "start_time": "2018-05-19T16:22:43.631241Z"
    }
   },
   "outputs": [],
   "source": [
    "# simulate the isotropic background, k = 0\n",
    "def sample_unit_sphere(n_samples):\n",
    "    # unit sphere\n",
    "    r = 1\n",
    "\n",
    "    u = np.random.uniform(0, 1, n_samples)\n",
    "    v = np.random.uniform(0, 1, n_samples)\n",
    "    theta = 2 * np.pi * u\n",
    "    phi = np.arccos(2 * v - 1)\n",
    "\n",
    "    # convert to cartesian and norm\n",
    "    x = r * np.cos(theta) * np.sin(phi) \n",
    "    y = r * np.sin(theta) * np.sin(phi) \n",
    "    z = r * np.cos(phi) \n",
    "    return np.transpose([x, y, z])\n",
    "\n",
    "background = Direction(sample_unit_sphere(F_0), norm = 1, label = 0)"
   ]
  },
  {
   "cell_type": "code",
   "execution_count": null,
   "metadata": {
    "ExecuteTime": {
     "end_time": "2018-05-19T16:22:44.626150Z",
     "start_time": "2018-05-19T16:22:44.495217Z"
    }
   },
   "outputs": [],
   "source": [
    "sys.path.append('../')\n",
    "from vMF import *\n",
    "\n",
    "# sample from the vMF distribution \n",
    "# get the positions of the sources\n",
    "skycoords = data.source['AGN'].coord\n",
    "\n",
    "# convert to cartesian coordinates\n",
    "varpi = [skycoords.cartesian.x, skycoords.cartesian.y, skycoords.cartesian.z] \n",
    "varpi = np.transpose(varpi)\n",
    "        \n",
    "# simulate events\n",
    "omega = []\n",
    "mus = []\n",
    "for i in range(N_A):\n",
    "    N = F[i]\n",
    "    # normalise to unit sphere for sampling, then revert\n",
    "    norm = np.linalg.norm(varpi[i])\n",
    "    mu = varpi[i] / norm\n",
    "    mus.append(Direction(mu, norm, 100))\n",
    "    omega_k = (sample_vMF(mu, kappa, N))\n",
    "    omega.append(Direction(omega_k, norm, i + 1))"
   ]
  },
  {
   "cell_type": "markdown",
   "metadata": {},
   "source": [
    "## Detection \n",
    "\n",
    "Following the deflection due to propagation, there is a further \"deflection\". The UHECR are detected indirectly and the quoted arrival direction has an associated uncertainty that is due to the reconstruction of the air shower."
   ]
  },
  {
   "cell_type": "code",
   "execution_count": null,
   "metadata": {
    "ExecuteTime": {
     "end_time": "2018-05-19T16:22:47.010007Z",
     "start_time": "2018-05-19T16:22:47.007179Z"
    }
   },
   "outputs": [],
   "source": [
    "# set the detection parameter\n",
    "kappa_c = 1000"
   ]
  },
  {
   "cell_type": "code",
   "execution_count": null,
   "metadata": {
    "ExecuteTime": {
     "end_time": "2018-05-19T16:22:48.890638Z",
     "start_time": "2018-05-19T16:22:48.816291Z"
    }
   },
   "outputs": [],
   "source": [
    "# simulate one eventsfor each true arrival direction\n",
    "detected = []\n",
    "for o in omega:\n",
    "    d_i = []\n",
    "    for uv in o.unit_vector:\n",
    "        d_i.append(sample_vMF(uv, kappa_c, 1)[0])\n",
    "    detected.append(Direction(d_i, o.norm, o.label))"
   ]
  },
  {
   "cell_type": "markdown",
   "metadata": {},
   "source": [
    "## Visualise the simulation\n",
    "\n",
    "Plot the simulated UHECR on a skymap with the host catalog and color the UHECR according to their associated labels."
   ]
  },
  {
   "cell_type": "code",
   "execution_count": null,
   "metadata": {
    "ExecuteTime": {
     "end_time": "2018-05-19T16:23:02.792705Z",
     "start_time": "2018-05-19T16:23:01.177050Z"
    }
   },
   "outputs": [],
   "source": [
    "# plot the results on a skymap\n",
    "# sources\n",
    "fig, skymap = data.show()\n",
    "# simulated data\n",
    "# plot each label as a spearate colour\n",
    "cmap = plt.cm.get_cmap('plasma', N_A) \n",
    "add_label = True\n",
    "for d in detected:\n",
    "    for lon, lat, label in np.nditer([d.lons, d.lats, d.label]):\n",
    "        if add_label:\n",
    "            skymap.tissot(lon, lat, 2, npts = 30, facecolor = cmap(label), alpha = 0.5, \n",
    "                          label = 'simulated data')\n",
    "            add_label = False\n",
    "        else:\n",
    "            skymap.tissot(lon, lat, 2, npts = 30, facecolor = cmap(label), alpha = 0.5)\n",
    "# simulated background\n",
    "add_label = True\n",
    "for lon, lat in np.nditer([background.lons, background.lats]): \n",
    "    if add_label:\n",
    "        skymap.tissot(lon, lat, 2, npts = 30, facecolor = 'k', alpha = 0.5, \n",
    "                      label = 'isotropic background')\n",
    "        add_label = False\n",
    "    else:\n",
    "       skymap.tissot(lon, lat, 2, npts = 30, facecolor = 'k', alpha = 0.5)  \n",
    "   \n",
    "plt.gca()\n",
    "plt.legend(bbox_to_anchor=(0.85, 0.85))"
   ]
  },
  {
   "cell_type": "markdown",
   "metadata": {},
   "source": [
    "## Modelling in Stan\n",
    "\n",
    "The Stan model can be found in `stan/soiaporn_model.stan`. We must prepare the data to pass to the stan model, compile the stan model and then fit it."
   ]
  },
  {
   "cell_type": "code",
   "execution_count": null,
   "metadata": {
    "ExecuteTime": {
     "end_time": "2018-05-19T16:23:07.158769Z",
     "start_time": "2018-05-19T16:23:07.146018Z"
    }
   },
   "outputs": [],
   "source": [
    "# prepare the data\n",
    "varpi_flat = [m.unit_vector for m in mus]\n",
    "\n",
    "detected_flat =[]\n",
    "for d in detected:\n",
    "    for uv in d.unit_vector:\n",
    "        detected_flat.append(uv) \n",
    "for uv in background.unit_vector:\n",
    "    detected_flat.append(uv)\n",
    "print (np.shape(varpi_flat))\n",
    "print (np.shape(detected_flat))\n",
    "\n",
    "N = np.shape(detected_flat)[0]"
   ]
  },
  {
   "cell_type": "code",
   "execution_count": null,
   "metadata": {
    "ExecuteTime": {
     "end_time": "2018-05-19T16:23:09.301099Z",
     "start_time": "2018-05-19T16:23:09.297809Z"
    }
   },
   "outputs": [],
   "source": [
    "# create a dictionary\n",
    "stan_input = {'N_A' : N_A,\n",
    "              'varpi' : varpi_flat,\n",
    "              'N' : N,\n",
    "              'detected' : detected_flat}"
   ]
  },
  {
   "cell_type": "code",
   "execution_count": null,
   "metadata": {
    "ExecuteTime": {
     "end_time": "2018-05-19T16:41:36.701644Z",
     "start_time": "2018-05-19T16:40:55.700595Z"
    }
   },
   "outputs": [],
   "source": [
    "# compile the stan model\n",
    "sm = pystan.StanModel(file = '../stan/soiaporn_model.stan')"
   ]
  },
  {
   "cell_type": "code",
   "execution_count": null,
   "metadata": {
    "ExecuteTime": {
     "start_time": "2018-05-19T16:41:39.358Z"
    }
   },
   "outputs": [],
   "source": [
    "# fit the model\n",
    "fit = sm.sampling(data = stan_input, iter = 1000, chains = 4, seed = 19920715)"
   ]
  },
  {
   "cell_type": "code",
   "execution_count": null,
   "metadata": {
    "ExecuteTime": {
     "end_time": "2018-05-19T16:34:12.961057Z",
     "start_time": "2018-05-19T16:34:12.854700Z"
    }
   },
   "outputs": [],
   "source": [
    "print(fit)"
   ]
  },
  {
   "cell_type": "code",
   "execution_count": null,
   "metadata": {
    "ExecuteTime": {
     "end_time": "2018-05-19T16:25:09.045858Z",
     "start_time": "2018-05-19T16:25:06.728349Z"
    }
   },
   "outputs": [],
   "source": [
    "fig = fit.plot();\n",
    "fig.set_size_inches(20, 16)\n",
    "fig.tight_layout()"
   ]
  },
  {
   "cell_type": "code",
   "execution_count": null,
   "metadata": {
    "ExecuteTime": {
     "end_time": "2018-05-19T16:25:10.076261Z",
     "start_time": "2018-05-19T16:25:10.056220Z"
    }
   },
   "outputs": [],
   "source": [
    "# Diagnositics\n",
    "sys.path.append('../stan')\n",
    "import stan_utility\n",
    "stan_utility.check_treedepth(fit)\n",
    "stan_utility.check_div(fit)\n",
    "stan_utility.check_energy(fit)"
   ]
  },
  {
   "cell_type": "code",
   "execution_count": null,
   "metadata": {},
   "outputs": [],
   "source": []
  }
 ],
 "metadata": {
  "kernelspec": {
   "display_name": "Python (bayes)",
   "language": "python",
   "name": "bayes"
  },
  "language_info": {
   "codemirror_mode": {
    "name": "ipython",
    "version": 3
   },
   "file_extension": ".py",
   "mimetype": "text/x-python",
   "name": "python",
   "nbconvert_exporter": "python",
   "pygments_lexer": "ipython3",
   "version": "3.6.4"
  }
 },
 "nbformat": 4,
 "nbformat_minor": 2
}
